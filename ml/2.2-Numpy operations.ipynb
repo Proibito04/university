{
 "cells": [
  {
   "cell_type": "markdown",
   "id": "7b648069",
   "metadata": {},
   "source": [
    "# Let's makes some Numpy Operations\n",
    "In this notebook we will see different operation types that we can perform on arrays"
   ]
  },
  {
   "cell_type": "markdown",
   "id": "b7ed14a8",
   "metadata": {},
   "source": [
    "## Exercise 1 Universal Functions\n",
    "Given an ndarray x = [4, -1, 7, 9, 3, -5] compute the sigmoid function $ y = sigmoid(x)$ which maps numbers $(-\\inf +\\inf) \\rightarrow (0,1)$\n",
    "\n",
    "$$ sigmoid(x) = \\frac{1}{1 + e^{-x}}$$"
   ]
  },
  {
   "cell_type": "code",
   "id": "9bec4df9",
   "metadata": {
    "ExecuteTime": {
     "end_time": "2024-10-04T13:51:54.830593Z",
     "start_time": "2024-10-04T13:51:54.827638Z"
    }
   },
   "source": "import numpy as np",
   "outputs": [],
   "execution_count": null
  },
  {
   "cell_type": "markdown",
   "id": "8c82de3d",
   "metadata": {},
   "source": [
    "## Exercise 2 Aggregation functions\n",
    "Given an array x = [[2, 3, -4,], [7, 5, 9]]\n",
    "\n",
    "Return the mean of the elements along the rows and the minimum element along the columns"
   ]
  },
  {
   "cell_type": "code",
   "id": "273b3322",
   "metadata": {
    "ExecuteTime": {
     "end_time": "2024-10-04T13:51:54.891885Z",
     "start_time": "2024-10-04T13:51:54.853237Z"
    }
   },
   "source": [
    "x = np.array([[1, 7], [2, 4]])\n",
    "print(x)\n",
    "print(x.mean(axis=0))\n",
    "print(x.mean(axis=1))"
   ],
   "outputs": [
    {
     "name": "stdout",
     "output_type": "stream",
     "text": [
      "[[1 7]\n",
      " [2 4]]\n",
      "[1.5 5.5]\n",
      "[4. 3.]\n"
     ]
    }
   ],
   "execution_count": 1
  },
  {
   "cell_type": "markdown",
   "id": "325a14df",
   "metadata": {},
   "source": [
    "## Exercise 3 Sorting\n",
    "Given the same array as in Ex. 1, i.e., x = [4, -1, 7, 9, 3, -5], find the 3 highest values and the positions of the 2 lowest values"
   ]
  },
  {
   "cell_type": "code",
   "id": "b37cd92d",
   "metadata": {
    "ExecuteTime": {
     "end_time": "2024-10-04T13:51:54.979390Z",
     "start_time": "2024-10-04T13:51:54.975886Z"
    }
   },
   "source": [
    "x = np.array([4, -1, 7, 9, 3, -5])\n",
    "print(\"Original array:\", x)\n",
    "highest_three = np.sort(x)[-3:][::-1]\n",
    "print(highest_three)"
   ],
   "outputs": [
    {
     "name": "stdout",
     "output_type": "stream",
     "text": [
      "Original array: [ 4 -1  7  9  3 -5]\n",
      "[9 7 4]\n"
     ]
    }
   ],
   "execution_count": 2
  },
  {
   "cell_type": "markdown",
   "id": "baa9047d",
   "metadata": {},
   "source": [
    "# Exercise 4 Broadcasting\n",
    "Compute the product between the array x1 = [[0,1,2], [3,4,5]] and the array x2 = [1, 2]\n",
    "Does it raises an error? How shall x2 be modified to make the operation possible?"
   ]
  },
  {
   "cell_type": "code",
   "id": "3b8be274fffc7cb2",
   "metadata": {
    "scrolled": true,
    "ExecuteTime": {
     "end_time": "2024-10-04T13:51:55.035329Z",
     "start_time": "2024-10-04T13:51:55.030270Z"
    }
   },
   "source": [
    "x1 = np.array([[0,1,2], [3,4,5]])\n",
    "x2 = np.array([1,2])\n",
    "x2_reshaped = np.reshape(x2, (-1,1))\n",
    "np.multiply(x1, x2_reshaped)"
   ],
   "outputs": [
    {
     "data": {
      "text/plain": [
       "array([[ 0,  1,  2],\n",
       "       [ 6,  8, 10]])"
      ]
     },
     "execution_count": 3,
     "metadata": {},
     "output_type": "execute_result"
    }
   ],
   "execution_count": 3
  }
 ],
 "metadata": {
  "kernelspec": {
   "display_name": "Python 3 (ipykernel)",
   "language": "python",
   "name": "python3"
  },
  "language_info": {
   "codemirror_mode": {
    "name": "ipython",
    "version": 3
   },
   "file_extension": ".py",
   "mimetype": "text/x-python",
   "name": "python",
   "nbconvert_exporter": "python",
   "pygments_lexer": "ipython3",
   "version": "3.12.3"
  }
 },
 "nbformat": 4,
 "nbformat_minor": 5
}
