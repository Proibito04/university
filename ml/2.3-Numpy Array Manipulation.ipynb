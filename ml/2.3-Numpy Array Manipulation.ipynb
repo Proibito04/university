{
 "cells": [
  {
   "cell_type": "markdown",
   "id": "7b648069",
   "metadata": {},
   "source": [
    "# Let's manipulate some arrays! \n",
    "In this notebook we will see different wasy in which we can manipulate an array"
   ]
  },
  {
   "cell_type": "markdown",
   "id": "b7ed14a8",
   "metadata": {},
   "source": [
    "## Exercise 1 Array accessing \n",
    "Given an ndarray `x = [[3.0, 2.0, 5.0], [1.0, 4.0, 2.0], [6.0, 7.0, 8.0]]`\n",
    "Return two arrays:\n",
    "1) Compute the mean of the elements along the second column \n",
    "2) Retrieve the elements with values higher than 2 along the second and third rows "
   ]
  },
  {
   "cell_type": "code",
   "id": "9bec4df9",
   "metadata": {
    "ExecuteTime": {
     "end_time": "2024-10-04T13:15:49.900798Z",
     "start_time": "2024-10-04T13:15:49.896811Z"
    }
   },
   "source": [
    "import numpy as np\n",
    "\n",
    "x = np.array([[3.0, 2.0, 5.0], [1.0, 4.0, 2.0], [6.0, 7.0, 8.0]])\n",
    "\n",
    "print(x)\n",
    "print(\"mean\", np.mean(x[:, 1]))\n",
    "print(\"higher than 2\", x[1:][x[1:] > 2] )"
   ],
   "outputs": [
    {
     "name": "stdout",
     "output_type": "stream",
     "text": [
      "[[3. 2. 5.]\n",
      " [1. 4. 2.]\n",
      " [6. 7. 8.]]\n",
      "mean 4.333333333333333\n",
      "higher than 2 [4. 6. 7. 8.]\n"
     ]
    }
   ],
   "execution_count": 20
  },
  {
   "cell_type": "markdown",
   "id": "8c82de3d",
   "metadata": {},
   "source": [
    "## Exercise 2 Array accessing to update\n",
    "Given the previous array x = [[3.0, 2.0, 5.0], [1.0, 4.0, 2.0], [6.0, 7.0, 8.0]]\n",
    "1) set the values of the first column to 0, if they are greater than 2\n",
    "2) then try to do the same for the first and third columns together. Does it work? "
   ]
  },
  {
   "cell_type": "code",
   "id": "273b3322",
   "metadata": {
    "ExecuteTime": {
     "end_time": "2024-10-04T13:26:09.644064Z",
     "start_time": "2024-10-04T13:26:09.640671Z"
    }
   },
   "source": [
    "import numpy as np\n",
    "\n",
    "x = np.array([[3.0, 2.0, 5.0], [1.0, 4.0, 2.0], [6.0, 7.0, 8.0]])\n",
    "\n",
    "print(x)\n",
    "x[x[:, 0] > 2, 0] = 0\n",
    "\n",
    "x[x[:, 2] > 2, 2] = 0\n",
    "\n",
    "print(x)\n"
   ],
   "outputs": [
    {
     "name": "stdout",
     "output_type": "stream",
     "text": [
      "[[3. 2. 5.]\n",
      " [1. 4. 2.]\n",
      " [6. 7. 8.]]\n",
      "[[0. 2. 0.]\n",
      " [1. 4. 2.]\n",
      " [0. 7. 0.]]\n"
     ]
    }
   ],
   "execution_count": 26
  },
  {
   "cell_type": "markdown",
   "id": "325a14df",
   "metadata": {},
   "source": [
    "## Exercise 3 Array concatenation and reshaping\n",
    "Given two arrays x1 = [[3,1], [2,4]] and x2 = [[3, 4], [2,4], [2,5]]\n",
    "\n",
    "Try to concatenate them vertically and then horizontally\n",
    "If something does not work try to reshape the arrays so that you can concatenate (or stack) them.\n"
   ]
  },
  {
   "cell_type": "code",
   "id": "b37cd92d",
   "metadata": {
    "ExecuteTime": {
     "end_time": "2024-10-04T13:36:17.032852Z",
     "start_time": "2024-10-04T13:36:17.026787Z"
    }
   },
   "source": [
    "import numpy as np\n",
    "\n",
    "x1 = np.array([[3,1], [2,4]])\n",
    "x2 = np.array([[3, 4], [2,4], [2,5]])\n",
    "\n",
    "horizontal_concat = np.concatenate((x1, x2), axis=0)\n",
    "print(horizontal_concat)\n",
    "\n",
    "# for the vertical concat we must reshape\n",
    "x1_reshaped = np.reshape(x1, (2,2,1))\n",
    "x2_reshaped = np.reshape(x2, (3, 2, 1))\n",
    "\n",
    "\n",
    "np.concatenate((x1_reshaped, x2_reshaped), axis=0)"
   ],
   "outputs": [
    {
     "name": "stdout",
     "output_type": "stream",
     "text": [
      "[[3 1]\n",
      " [2 4]\n",
      " [3 4]\n",
      " [2 4]\n",
      " [2 5]]\n",
      "[[[3]\n",
      "  [1]]\n",
      "\n",
      " [[2]\n",
      "  [4]]]\n"
     ]
    },
    {
     "data": {
      "text/plain": [
       "array([[[3],\n",
       "        [1]],\n",
       "\n",
       "       [[2],\n",
       "        [4]],\n",
       "\n",
       "       [[3],\n",
       "        [4]],\n",
       "\n",
       "       [[2],\n",
       "        [4]],\n",
       "\n",
       "       [[2],\n",
       "        [5]]])"
      ]
     },
     "execution_count": 38,
     "metadata": {},
     "output_type": "execute_result"
    }
   ],
   "execution_count": 38
  }
 ],
 "metadata": {
  "kernelspec": {
   "display_name": "Python 3 (ipykernel)",
   "language": "python",
   "name": "python3"
  },
  "language_info": {
   "codemirror_mode": {
    "name": "ipython",
    "version": 3
   },
   "file_extension": ".py",
   "mimetype": "text/x-python",
   "name": "python",
   "nbconvert_exporter": "python",
   "pygments_lexer": "ipython3",
   "version": "3.10.12"
  }
 },
 "nbformat": 4,
 "nbformat_minor": 5
}
